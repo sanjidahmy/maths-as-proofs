{
 "cells": [
  {
   "cell_type": "markdown",
   "metadata": {},
   "source": [
    "# **EXIT TICKET CORRECTIONS**"
   ]
  },
  {
   "cell_type": "markdown",
   "metadata": {},
   "source": [
    "#### If you have steps $1-3$ in all $3$ questions, you have a GREEN."
   ]
  },
  {
   "cell_type": "markdown",
   "metadata": {},
   "source": [
    "#### If you have steps $1-3$ in $2$ questions, you have an AMBER."
   ]
  },
  {
   "cell_type": "markdown",
   "metadata": {},
   "source": [
    "#### If you have steps $1-3$ in $1$ question, you have a RED."
   ]
  },
  {
   "cell_type": "markdown",
   "metadata": {},
   "source": [
    "# Question 1:"
   ]
  },
  {
   "cell_type": "markdown",
   "metadata": {},
   "source": [
    "### Step 1: \n",
    "#### Assume $\\sqrt{3} = \\frac{p}{q}$ where $p$ and $q$ are integers that do not have a common factor. In other words, assume $\\sqrt{3}$ is rational and prove this isn't possible."
   ]
  },
  {
   "cell_type": "markdown",
   "metadata": {},
   "source": [
    "### Step 2: \n",
    "#### Square $\\sqrt{3}$ and obtain $3=\\frac{p^{2}}{q^{2}}$. Deduce that $p^{2}$ is a multiple of $3$ and therefore so is $p$."
   ]
  },
  {
   "cell_type": "markdown",
   "metadata": {},
   "source": [
    "### Step 3: \n",
    "#### As you now know $p=3s$ for some integer $s$, square $p$ and put it back in your expression for $3$:\n",
    "$$3=\\frac{9s^{2}}{q^{2}}$$\n",
    "#### Rearrange to obtain: $$3q^{2}=9s^{2}$$ $$q^{2}=3s^{2}$$"
   ]
  },
  {
   "cell_type": "markdown",
   "metadata": {},
   "source": [
    "### Step 4: \n",
    "#### Deduce that $q^{2}$ is a multiple of $3$ and therefore so is $q$. This means that both $q$ and $p$ are  multiples of $3$. This means we cannot write $\\sqrt{3}$ as an irreducible fraction and therefore $\\sqrt{3}$ must be irrational."
   ]
  },
  {
   "cell_type": "markdown",
   "metadata": {},
   "source": [
    "# Question 2:"
   ]
  },
  {
   "cell_type": "markdown",
   "metadata": {},
   "source": [
    "### Step 1:\n",
    "#### We have $5$ numbers. if the first number is $n$, then next four numbers are $n+1, ... , n+4$ ."
   ]
  },
  {
   "cell_type": "markdown",
   "metadata": {},
   "source": [
    "### Step 2:\n",
    "\n",
    "#### Work out the sum: $$n+(n+1)+(n+2)+(n+3)+(n+4) = 5n+10$$"
   ]
  },
  {
   "cell_type": "markdown",
   "metadata": {},
   "source": [
    "### Step 3: \n",
    "\n",
    "#### Factorise $5n+10=5(n+2)$. As n is an integer, so is $n+2$, which means that the sum is a multiple of $5$."
   ]
  },
  {
   "cell_type": "markdown",
   "metadata": {},
   "source": [
    "# Question 3:"
   ]
  },
  {
   "cell_type": "markdown",
   "metadata": {},
   "source": [
    "### Step 1:\n",
    "\n",
    "#### Drawing and labelling of diagram. Suppose the angles at the ends of the diameter are $a$ and $b$."
   ]
  },
  {
   "cell_type": "markdown",
   "metadata": {},
   "source": [
    "### Step 2:\n",
    "\n",
    "#### Split the triangle in two. You now have two isosceles triangles. Deduce that the third angle subtended on the circumference is $a+b$. "
   ]
  },
  {
   "cell_type": "markdown",
   "metadata": {},
   "source": [
    "### Step 3:\n",
    "\n",
    "#### Add all the angles in your original triangle together to get: \n",
    "\n",
    "$$2a+2b = 180$$"
   ]
  },
  {
   "cell_type": "markdown",
   "metadata": {},
   "source": [
    "### Step 4:\n",
    "\n",
    "#### Deduce that  $a+b=90$. This means the angle on the circumference is always a right-angle if the opposite side is a diameter of the circle.\n",
    "\n",
    "\n",
    "\n"
   ]
  },
  {
   "cell_type": "markdown",
   "metadata": {},
   "source": [
    "## Extension question:\n",
    "\n",
    "\n",
    "#### The $k$ consecutive numbers are $n,...,n+k-1$. Add them together to get: \n",
    "$$S_k = n+...+n+k-1 = kn + 1+2+...+k-2+k-1$$ \n",
    "#### As the sum of all integers from $1$ to a number $m$ is $\\frac{1}{2}m(m+1)$, we get $$S_k = kn + \\frac{1}{2}k(k-1)$$ $$  = k(n + \\frac{1}{2}(k-1))$$\n",
    "#### The expression in brackets can only be an integer if $k-1$ is even. This means $k$ is only a factor of the sum if it is odd. The other factor in the product is then $(n + \\frac{1}{2}(k-1))$."
   ]
  }
 ],
 "metadata": {
  "kernelspec": {
   "display_name": "Python 3",
   "language": "python",
   "name": "python3"
  },
  "language_info": {
   "codemirror_mode": {
    "name": "ipython",
    "version": 3
   },
   "file_extension": ".py",
   "mimetype": "text/x-python",
   "name": "python",
   "nbconvert_exporter": "python",
   "pygments_lexer": "ipython3",
   "version": "3.5.2"
  }
 },
 "nbformat": 4,
 "nbformat_minor": 2
}
