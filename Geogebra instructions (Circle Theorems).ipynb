{
 "cells": [
  {
   "cell_type": "markdown",
   "metadata": {},
   "source": [
    "# **Circle Theorems: Using Geogebra**"
   ]
  },
  {
   "cell_type": "markdown",
   "metadata": {},
   "source": [
    "This is a brief method sheet that will help you visualise your theorem in Geogebra.\n",
    "\n",
    "First go to www.geogebra.org and select Graphic Calculator. Then go to Main Menu on the left and scroll down to Geogebra Classic."
   ]
  },
  {
   "cell_type": "markdown",
   "metadata": {
    "cell_style": "split"
   },
   "source": [
    "![Geo7](./Geo7.jpg) "
   ]
  },
  {
   "cell_type": "markdown",
   "metadata": {
    "cell_style": "split"
   },
   "source": [
    "![Geo6](./Geo6.jpg) "
   ]
  },
  {
   "cell_type": "markdown",
   "metadata": {},
   "source": [
    "## Drawing a circle:\n",
    "This draws a circle with a specified centre and radius.\n",
    "\n",
    "![Geo2](./Geo2.jpg)\n"
   ]
  },
  {
   "cell_type": "markdown",
   "metadata": {},
   "source": [
    "## Drawing a segment:\n",
    "This draws a segment between two points.\n",
    "\n",
    "![Geo1](./Geo1.jpg) "
   ]
  },
  {
   "cell_type": "markdown",
   "metadata": {},
   "source": [
    "## Drawing a point:\n",
    "\n",
    "This draws a point at in a specific place.\n",
    "\n",
    "![Geo4](./Geo4.jpg) "
   ]
  },
  {
   "cell_type": "markdown",
   "metadata": {},
   "source": [
    "## Drawing an angle from three points:\n",
    "\n",
    "This draws an angle between three specified points\n",
    "\n",
    "![Geo3](./Geo3.jpg) "
   ]
  },
  {
   "cell_type": "markdown",
   "metadata": {},
   "source": [
    "## Creating a slider:\n",
    "Creates a slider which allows to vary objects (such as the coordinates of a point).\n",
    "\n",
    "![Geo5](./Geo5.jpg) "
   ]
  }
 ],
 "metadata": {
  "kernelspec": {
   "display_name": "Python 3",
   "language": "python",
   "name": "python3"
  },
  "language_info": {
   "codemirror_mode": {
    "name": "ipython",
    "version": 3
   },
   "file_extension": ".py",
   "mimetype": "text/x-python",
   "name": "python",
   "nbconvert_exporter": "python",
   "pygments_lexer": "ipython3",
   "version": "3.5.2"
  }
 },
 "nbformat": 4,
 "nbformat_minor": 2
}
