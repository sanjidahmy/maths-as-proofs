{
 "cells": [
  {
   "cell_type": "markdown",
   "metadata": {},
   "source": [
    "# **Mathematical Proof**"
   ]
  },
  {
   "cell_type": "markdown",
   "metadata": {},
   "source": [
    "## What is a mathematical proof?\n",
    "\n",
    "A set of mathematical arguments that proove a statement is true."
   ]
  },
  {
   "cell_type": "markdown",
   "metadata": {},
   "source": [
    "##  Why do you think it is a useful thing to learn?\n",
    "\n",
    "Understanding proofs can help with algorithmic thinking! "
   ]
  },
  {
   "cell_type": "markdown",
   "metadata": {},
   "source": [
    "###  Task 1:\n",
    "You have a diagram below. What famous result can you prove from this? What are the assumptions you are making?\n",
    "Hint: The outside shape is a square, so is the inside one and all the lines are straight."
   ]
  },
  {
   "cell_type": "markdown",
   "metadata": {},
   "source": [
    "![Pythagorus](https://i1.wp.com/www.zmescience.com/wp-content/uploads/2015/11/pythagora.gif?zoom=1.5&resize=219%2C218)"
   ]
  },
  {
   "cell_type": "markdown",
   "metadata": {
    "slideshow": {
     "slide_type": "skip"
    }
   },
   "source": [
    "**Hints:**\n",
    "\n",
    "1. Show image without labelling.\n",
    "2. Add labels.\n",
    "3. Add right angles.\n",
    "4. Put up area formulae."
   ]
  },
  {
   "cell_type": "markdown",
   "metadata": {},
   "source": [
    "## What is a good and a bad proof?\n",
    "Yes, some proofs are bad!"
   ]
  },
  {
   "cell_type": "markdown",
   "metadata": {},
   "source": [
    "## What skills do you need to write a good proof?"
   ]
  },
  {
   "cell_type": "markdown",
   "metadata": {
    "slideshow": {
     "slide_type": "slide"
    }
   },
   "source": [
    "## Task: \n",
    "\n",
    "You have two lists of mathematical statements. They go in pairs, match them together!"
   ]
  },
  {
   "cell_type": "markdown",
   "metadata": {
    "cell_style": "split"
   },
   "source": [
    "1. $x^{2} + 1 = x^{4}$\n",
    "2. $x^{7} + x^{5} = 0$\n",
    "3. $x^{4} - 4x^{2} = -4$\n",
    "4. $x = -5$ or $3$\n",
    "5. $x = \\frac{1}{x^{2}}$ \n",
    "6. $x + 2 = y+3$ and $y = 2x + 1$\n",
    "7. $x^{4} - 9= 0$\n",
    "8. $xy=5$ and $y^{2} = \\frac{9}{25}$"
   ]
  },
  {
   "cell_type": "markdown",
   "metadata": {
    "cell_style": "split"
   },
   "source": [
    "1. $x = 0$\n",
    "2. $x^{4} = 4$\n",
    "3. $x^{2} + 2x - 15=0$\n",
    "4. $1 - x^{2} =\\frac{-1}{x^{2}}$\n",
    "5. $x=-2$ \n",
    "6. $x =1$\n",
    "7. $x= \\frac{25}{3}$ or $-\\frac{25}{3}$\n",
    "8. $x^{2}+3 = \\frac{1}{x^{2}-3}$  "
   ]
  },
  {
   "cell_type": "markdown",
   "metadata": {},
   "source": [
    "### Corrections:\n",
    "\n",
    "**1. and 2.**<p>\n",
    "$$x^{2}+1=x^{4}$$\n",
    "$$x^{2}(1+\\frac{1}{x^{2}})=x^{2}\\times x^{2}$$\n",
    "$$1+\\frac{1}{x^{2}}=x^{2}$$\n",
    "$$1-x^{2}=-\\frac{1}{x^{2}}$$\n",
    "\n",
    "\n",
    "**2. and 1.**<p>\n",
    "$$x^{7}+x^{5}=0$$\n",
    "$$x^{5}(x^{2}+1)=0$$\n",
    "$$x^{5}=0, x^{2}+1=0$$\n",
    "This means that $x=0$ only.\n",
    "\n",
    "\n",
    "**3. and 2.**<p>\n",
    "$$x^{4}-4x^{2}=-4$$\n",
    "$$x^{4}-4x^{2}+4=0$$\n",
    "Factorise to get:\n",
    "$$(x^{2}-2)^{2}=0$$\n",
    "This means $x^{2}=2$; if we square both sides we get $x^{4}=4$. You could also use trial and error and put in the value $x^{4}=4$.\n",
    "\n",
    "\n",
    "**4. and 3.**<p>\n",
    "If $x=-5$ or $3$, we can make up two linear equations $x+5=0$ and $x-3=0$. We can also combine them into a quadratic $(x+5)(x-3)=0$, which can be expanded to get: $$x^{2}+2x-15$$\n",
    "\n",
    "\n",
    "**5. and 6.**<p>\n",
    "If $x=\\frac{1}{x^{2}}$, then we can rearrange to get $x^{3}=1$. The only possibility is $x=1$.\n",
    "\n",
    "\n",
    "**6. and 5.**<p>\n",
    "This one is just a set of simultaneous equations. You can rearrange it to get $x=-2$.[You would also get $y=-3$ but this isn't required in the question]\n",
    "\n",
    "\n",
    "**7. and 8.**<p>\n",
    "Factorise $x^{4}-9=1$, to get:\n",
    "$$(x^{2}-3)(x^{2}+3)=1$$\n",
    "You can then rearrange to get: $$(x^{2}+3)=\\frac{1}{(x^{2}-3)}$$ \n",
    "\n",
    "\n",
    "**8. and 7.**<p>\n",
    "Take the square root of $y^{2}=\\frac{9}{25}$, this gives you: $$y=\\pm\\frac{3}{5}$$ For the negative value of $y$ you would have to have $x=-\\frac{25}{3}$ and for the positive value of $y$ you would have to have $x=\\frac{25}{3}$ (if it was the other way around $x\\times y$ would not be positive."
   ]
  },
  {
   "cell_type": "markdown",
   "metadata": {
    "slideshow": {
     "slide_type": "slide"
    }
   },
   "source": [
    "## Some interesting proofs: \n",
    "\n",
    "1. $\\sqrt{2}+\\sqrt{3}$ is an irrational number.\n",
    "\n",
    "2. The product of $4$ consecutive numbers is always divisible by $24$. The product of $5$ consecutive numbers is always divisible $120$. Can you see where this is going?\n",
    "\n",
    "3. If $x$ and $y$ are two numbers, then $2xy\\leq x^{2}+y^{2}$. **Extension:** Show that $xy \\leq (\\frac{x+y}{2})^{2}$.\n",
    "\n",
    "4. The equation $$x^{2}+y^{2}=r^{2}$$ describes a circle of radius $r$.\n",
    "\n",
    "5. Prove that the tangent to a circle and the line from the centre of the circle to the tangent point are always perpendicular to each other. Use any definition of a circle to help you.\n",
    "\n",
    "6. $$\\sqrt[q]{p}^{\\sqrt[n]{q}^{n}}$$ is a rational number whenever $p$ and $q$ are not negative.\n",
    "\n",
    "7. If $a^{2}+b^{2}$ is divisible by $3$, then both $a$ and $b$ are divisible by $3$.\n"
   ]
  },
  {
   "cell_type": "markdown",
   "metadata": {},
   "source": [
    "## Task 2:\n",
    "Pick any of the proofs above. With your group brainstorm on different ideas you could use, which could help you prove your statement. Prove it together!"
   ]
  },
  {
   "cell_type": "markdown",
   "metadata": {
    "slideshow": {
     "slide_type": "slide"
    }
   },
   "source": [
    "## Question: \n",
    "What is wrong with this proof? Why?\n",
    "\n",
    "### Statement to prove:\n",
    "\n",
    "$(x+1)^{2} > 1$ when $x > 0$\n",
    "\n",
    "Assume it's true. This means: $$x^{2}+2x+1 > 1$$\n",
    "We can subtract $1$ from each side to get $$x^{2}+2x > 0$$\n",
    "Then we get: $$x(x+2) > 0$$\n",
    "This is true whenever $x>0$!"
   ]
  },
  {
   "cell_type": "markdown",
   "metadata": {},
   "source": [
    "### What might be a better way to prove your claim?"
   ]
  },
  {
   "cell_type": "markdown",
   "metadata": {
    "slideshow": {
     "slide_type": "slide"
    }
   },
   "source": [
    "## Some methods of proof\n",
    "\n",
    "We will look at two different methods of proof.\n",
    "\n",
    "1. Deduction: Using a known result that leads you to your statement. Important point: The other way around doesn't work - *assuming* your statement is true and showing it leads you to a known result! \n",
    "\n",
    "2. Exhaustion: Showing a statement is correct by classifying all possibilities into categories and then showing your statement is correct for all those categories.\n",
    "\n",
    "3. Contradiction: Assume the *exact opposite* of your statement. Show that this is impossible given the conditions of your statement.\n"
   ]
  },
  {
   "cell_type": "markdown",
   "metadata": {
    "cell_style": "center",
    "collapsed": true
   },
   "source": [
    "## Task 4:\n",
    "\n",
    "Can you prove that $(x+5)^{2} \\geq 25$ when $x \\geq 0$ by **contradiction**?\n",
    "Hint: What is the statement and what is the condition?"
   ]
  },
  {
   "cell_type": "markdown",
   "metadata": {},
   "source": [
    "## Proof: \n",
    "\n",
    "Be clear about what you are proving: if $x\\geq0$, $(x+5)^{2}$ must be larger or equal to $25$. This does not mean $(x+5)^{2}$ isn't larger than $25$ for other values of $x$; we are saying it definitely is when $x\\leq0$.\n",
    "\n",
    "How do we prove this?  By showing the **opposite** is not possible when $x\\geq0$. \n",
    "\n",
    "So let's start with the opposite statement to $(x+5)^{2}\\geq25$: $$(x+5)^{2}<25$$\n",
    "\n",
    "Is this possible if $x\\geq0$? Let's see.\n",
    "\n",
    "$$(x+5)^{2}<25$$\n",
    "$$\\therefore x^{2}+10x+25<25$$\n",
    "$$ \\therefore x^{2}+10x<0$$\n",
    "$$ \\therefore x(x+10)<0$$\n",
    "\n",
    "For what values of $x$ is this possible?\n",
    "\n",
    "Let's use the solutions to $x(x+10)= 0$. They are $x=-10,0$. This means we have three possibilities:\n",
    "\n",
    "$x<-10$ , $x>0$ or $-10<x<0$. We can't try $x=0$ or $x=-10$ in $x(x+10)$ as we are saying it is strictly smaller than $0$.\n",
    "\n",
    "Try each possibility. We find that $x$ has to be in between $-10$ and $0$ for $x(x+10)<0$. \n",
    "\n",
    "**But** we originally said that $x\\geq0$ ! Which means that $x(x+10)$ cannot be smaller than $0$. If you work backwards, this means $(x+5)^{2}<25$ is wrong if $x\\geq0$! In other words, if $x\\geq0$, then $(x+5)^{2}$ must be larger or equal to $25$!"
   ]
  },
  {
   "cell_type": "markdown",
   "metadata": {
    "cell_style": "center"
   },
   "source": [
    "## Task 5: \n",
    "\n",
    "Can you prove that the sum of 4 consecutive numbers is always even? Use exhaustion.\n",
    "Don't use algebra!"
   ]
  },
  {
   "cell_type": "markdown",
   "metadata": {
    "slideshow": {
     "slide_type": "skip"
    }
   },
   "source": [
    "## Proof:\n",
    "\n",
    "You have two possibilities:\n",
    "\n",
    "1. Your first number is even, than the second is odd, the third even, the fourth is odd. This means we get: $$Even + Odd + Even + Odd = Even$$\n",
    "\n",
    "2. Your first number is odd, then the second is even, the third is odd, the fourth is even. We get: $$Odd + Even + Odd + Even = Even$$\n",
    "\n",
    "Those are the only two possibilities, which means the sum is even."
   ]
  },
  {
   "cell_type": "markdown",
   "metadata": {},
   "source": [
    "## Task 6:\n",
    "\n",
    "Prove that $\\sqrt(5) + \\sqrt(6) > \\sqrt(11)$ by deduction. Remember that when you use deduction, you are assuming a *known* fact; think about what mathematical facts you are assuming.\n"
   ]
  },
  {
   "cell_type": "markdown",
   "metadata": {},
   "source": [
    "## Proof: \n",
    "\n",
    "We are going to prove this by assuming a known fact, which is $(a+b)^{2} = a^{2}+ 2ab+b^{2}$. This means:\n",
    "\n",
    "$$(\\sqrt(5) + \\sqrt(6))^{2} = 5 +2\\sqrt(30)+6 = 11 +2\\sqrt(30)$$\n",
    "\n",
    "We also know: \n",
    "\n",
    "$$\\sqrt{11}^{2}=11$$\n",
    "\n",
    "Now $11+2\\sqrt(30)-11=2\\sqrt(30)$ and $11-11=0$. We can use another known result, which is that $2\\sqrt(30)>0$. If this is the case, then we can work backwards:\n",
    "\n",
    "$$2\\sqrt(30)>0$$\n",
    "$$\\therefore 11+2\\sqrt(30)=5+2\\sqrt(30)+6= (\\sqrt(5)+\\sqrt(6))^{2}>11$$\n",
    "\n",
    "If we now take the square root of both sides of the inequality (and only take into account the positivesquare roots, as that is what we had in our original equality), we get:\n",
    "\n",
    "$$\\sqrt(5)+\\sqrt(6)>\\sqrt(11)$$"
   ]
  }
 ],
 "metadata": {
  "celltoolbar": "Slideshow",
  "kernelspec": {
   "display_name": "Python 3",
   "language": "python",
   "name": "python3"
  },
  "language_info": {
   "codemirror_mode": {
    "name": "ipython",
    "version": 3
   },
   "file_extension": ".py",
   "mimetype": "text/x-python",
   "name": "python",
   "nbconvert_exporter": "python",
   "pygments_lexer": "ipython3",
   "version": "3.5.2"
  }
 },
 "nbformat": 4,
 "nbformat_minor": 2
}
