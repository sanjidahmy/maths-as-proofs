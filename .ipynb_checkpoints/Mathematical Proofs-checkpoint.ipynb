{
 "cells": [
  {
   "cell_type": "markdown",
   "metadata": {},
   "source": [
    "# **Mathematical Proof**"
   ]
  },
  {
   "cell_type": "markdown",
   "metadata": {},
   "source": [
    "## What is a mathematical proof?\n",
    "\n",
    "A set of mathematical arguments that proove a statement is true."
   ]
  },
  {
   "cell_type": "markdown",
   "metadata": {},
   "source": [
    "##  Why do you think it is a useful thing to learn?\n",
    "\n",
    "Understanding proofs can help with algorithmic thinking! "
   ]
  },
  {
   "cell_type": "markdown",
   "metadata": {},
   "source": [
    "###  Task 1:\n",
    "You have a diagram below. What famous result can you prove from this? What are the assumptions you are making?\n",
    "Hint: The outside shape is a square, so is the inside one and all the lines are straight."
   ]
  },
  {
   "cell_type": "markdown",
   "metadata": {},
   "source": [
    "![Pythagorus](https://i1.wp.com/www.zmescience.com/wp-content/uploads/2015/11/pythagora.gif?zoom=1.5&resize=219%2C218)"
   ]
  },
  {
   "cell_type": "markdown",
   "metadata": {
    "slideshow": {
     "slide_type": "skip"
    }
   },
   "source": [
    "**Hints:**\n",
    "\n",
    "1. Show image without labelling.\n",
    "2. Add labels.\n",
    "3. Add right angles.\n",
    "4. Put up area formulae."
   ]
  },
  {
   "cell_type": "markdown",
   "metadata": {},
   "source": [
    "## What is a good and a bad proof?\n",
    "Yes, some proofs are bad!"
   ]
  },
  {
   "cell_type": "markdown",
   "metadata": {},
   "source": [
    "## What skills do you need to write a good proof?"
   ]
  },
  {
   "cell_type": "markdown",
   "metadata": {
    "slideshow": {
     "slide_type": "slide"
    }
   },
   "source": [
    "## Task: \n",
    "\n",
    "You have two lists of mathematical statements. They go in pairs, match them together!"
   ]
  },
  {
   "cell_type": "markdown",
   "metadata": {
    "cell_style": "split"
   },
   "source": [
    "1. $x^{2} + 1 = x^{4}$\n",
    "2. $x^{7} + x^{5} = 0$\n",
    "3. $x^{4} - 4x^{2} = -4$\n",
    "4. $x = -5$ or $3$\n",
    "5. $x = \\frac{1}{x^{2}}$ \n",
    "6. $x + 2 = y+3$ and $y = 2x + 1$\n",
    "7. $x^{4} - 9= 0$\n",
    "8. $xy=5$ and $y^{2} = \\frac{9}{25}$"
   ]
  },
  {
   "cell_type": "markdown",
   "metadata": {
    "cell_style": "split"
   },
   "source": [
    "1. $x = 0$\n",
    "2. $x^{4} = 4$\n",
    "3. $x^{2} + 2x - 15=0$\n",
    "4. $1 - x^{2} =\\frac{-1}{x^{2}}$\n",
    "5. $x=-2$ \n",
    "6. $x =1$\n",
    "7. $x= \\frac{25}{3}$ or $-\\frac{25}{3}$\n",
    "8. $x^{2}+3 = \\frac{1}{x^{2}-3}$  "
   ]
  },
  {
   "cell_type": "markdown",
   "metadata": {},
   "source": [
    "### Corrections:\n",
    "\n",
    "**1. and 2.**<p>\n",
    "$$x^{2}+1=x^{4}$$\n",
    "$$x^{2}(1+\\frac{1}{x^{2}})=x^{2}\\times x^{2}$$\n",
    "$$1+\\frac{1}{x^{2}}=x^{2}$$\n",
    "$$1-x^{2}=-\\frac{1}{x^{2}}$$\n",
    "\n",
    "\n",
    "**2. and 1.**<p>\n",
    "$$x^{7}+x^{5}=0$$\n",
    "$$x^{5}(x^{2}+1)=0$$\n",
    "$$x^{5}=0, x^{2}+1=0$$\n",
    "This means that $x=0$ only.\n",
    "\n",
    "\n",
    "**3. and 2.**<p>\n",
    "$$x^{4}-4x^{2}=-4$$\n",
    "$$x^{4}-4x^{2}+4=0$$\n",
    "Factorise to get:\n",
    "$$(x^{2}-2)^{2}=0$$\n",
    "This means $x^{2}=2$; if we square both sides we get $x^{4}=4$. You could also use trial and error and put in the value $x^{4}=4$.\n",
    "\n",
    "\n",
    "**4. and 3.**<p>\n",
    "If $x=-5$ or $3$, we can make up two linear equations $x+5=0$ and $x-3=0$. We can also combine them into a quadratic $(x+5)(x-3)=0$, which can be expanded to get: $$x^{2}+2x-15$$\n",
    "\n",
    "\n",
    "**5. and 6.**<p>\n",
    "If $x=\\frac{1}{x^{2}}$, then we can rearrange to get $x^{3}=1$. The only possibility is $x=1$.\n",
    "\n",
    "\n",
    "**6. and 5.**<p>\n",
    "This one is just a set of simultaneous equations. You can rearrange it to get $x=-2$.[You would also get $y=-3$ but this isn't required in the question]\n",
    "\n",
    "\n",
    "**7. and 8.**<p>\n",
    "Factorise $x^{4}-9=1$, to get:\n",
    "$$(x^{2}-3)(x^{2}+3)=1$$\n",
    "You can then rearrange to get: $$(x^{2}+3)=\\frac{1}{(x^{2}-3)}$$ \n",
    "\n",
    "\n",
    "**8. and 7.**<p>\n",
    "Take the square root of $y^{2}=\\frac{9}{25}$, this gives you: $$y=\\pm\\frac{3}{5}$$. For the negative value of $y$ you would have to have $x=-\\frac{25}{3}$ and for the positive value of $y$ you would have to have $x=\\frac{25}{3}$."
   ]
  },
  {
   "cell_type": "markdown",
   "metadata": {
    "slideshow": {
     "slide_type": "slide"
    }
   },
   "source": [
    "## Some interesting proofs:\n",
    "1. $\\sqrt(2)$ is an irrational number.\n",
    "\n",
    "2. The product of $3$ consecutive numbers is always divisible by $6$. The product of $4$ consecutive numbers is always divisible by $24$. The product of $5$ consecutive numbers is always divisible $120$. Can you see where this is going?\n",
    "\n",
    "3. If $x$ and $y$ are two numbers, then $2xy\\leq x^{2}+y^{2}$. **Extension:** Show that $xy \\leq (\\frac{x+y}{2})^{2}$.\n",
    "\n",
    "4. The equation $$x^{2}+y^{2}=9$$ describes a circle of radius $3$.\n",
    "\n",
    "5. $$\\sqrt[q]{p}^{\\sqrt[n]{q}^{n}}$$ is a rational number whenever $p$ and $q$ are not negative.\n",
    "\n",
    "6. The roots of a quadratic polynomial $a x^2 + bx + c$ with $a \\neq 0$ are given by the formula:$$\\frac{-b \\pm \\sqrt{b^2 - 4ac}}{2a}$$"
   ]
  },
  {
   "cell_type": "markdown",
   "metadata": {},
   "source": [
    "## Task 2:\n",
    "Pick a statement out of the 6. With your group brainstorm on different ideas you could use, which could help you prove your statement. Prove it together!"
   ]
  },
  {
   "cell_type": "markdown",
   "metadata": {},
   "source": [
    "## Question: \n",
    "What is wrong with this proof? Why?\n",
    "\n",
    "### Statement to prove:\n",
    "\n",
    "$(x+1)^{2} > 1$ when $x > 0$\n",
    "\n",
    "Assume it's true. This means: $$x^{2}+2x+1 > 1$$\n",
    "We can subtract $1$ from each side to get $$x^{2}+2x > 0$$\n",
    "Then we get: $$x(x+2) > 0$$\n",
    "This is true whenever $x>0$!"
   ]
  },
  {
   "cell_type": "markdown",
   "metadata": {},
   "source": [
    "### What might be a better way to prove your claim?"
   ]
  },
  {
   "cell_type": "markdown",
   "metadata": {},
   "source": [
    "## Some methods of proof\n",
    "\n",
    "We will look at two different methods of proof.\n",
    "\n",
    "1. Deduction: Using a known result that leads you to your statement. Important point: The other way around doesn't work - *assuming* your statement is true and showing it leads you to a known result! \n",
    "\n",
    "2. Exhaustion: Showing a statement is correct by classifying all possibilities into categories and then showing your statement is correct for all those categories.\n",
    "\n",
    "3. Contradiction: Assume the *exact opposite* of your statement. Show that this is impossible given the conditions of your statement.\n"
   ]
  },
  {
   "cell_type": "markdown",
   "metadata": {
    "collapsed": true
   },
   "source": [
    "## Task 4:\n",
    "\n",
    "Can you prove that $(x+5)^{2} \\geq 25$ when $x \\geq 0$ by contradiction?\n",
    "Hint: What is the statement and what is the condition?"
   ]
  },
  {
   "cell_type": "markdown",
   "metadata": {},
   "source": [
    "## Task 5: \n",
    "\n",
    "Can you prove that the sum of 4 consecutive numbers is always even? Use exhaustion."
   ]
  },
  {
   "cell_type": "markdown",
   "metadata": {},
   "source": [
    "## Task 6:\n",
    "\n",
    "Prove that $\\sqrt(5) + \\sqrt(6) > \\sqrt(11)$ by deduction. Remember that when you use deduction, you are assuming a *known* fact; think about what mathematical facts you are assuming.\n"
   ]
  }
 ],
 "metadata": {
  "celltoolbar": "Slideshow",
  "kernelspec": {
   "display_name": "Python 3",
   "language": "python",
   "name": "python3"
  },
  "language_info": {
   "codemirror_mode": {
    "name": "ipython",
    "version": 3
   },
   "file_extension": ".py",
   "mimetype": "text/x-python",
   "name": "python",
   "nbconvert_exporter": "python",
   "pygments_lexer": "ipython3",
   "version": "3.5.2"
  }
 },
 "nbformat": 4,
 "nbformat_minor": 2
}
