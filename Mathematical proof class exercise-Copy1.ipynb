{
 "cells": [
  {
   "cell_type": "markdown",
   "metadata": {},
   "source": [
    "# Mathematical proof: Class exercise"
   ]
  },
  {
   "cell_type": "markdown",
   "metadata": {},
   "source": [
    "## **Topic:** Irrationality in mathematical proofs."
   ]
  },
  {
   "cell_type": "markdown",
   "metadata": {},
   "source": [
    "### What is a rational number?"
   ]
  },
  {
   "cell_type": "markdown",
   "metadata": {},
   "source": [
    "### **Aim:** To prove that $\\sqrt{2}$ is irrational."
   ]
  },
  {
   "cell_type": "markdown",
   "metadata": {},
   "source": [
    "#### Can you show that $2$, $18$ or $310$ are rational numbers? How would you go about it?"
   ]
  },
  {
   "cell_type": "markdown",
   "metadata": {},
   "source": [
    "#### Can you show that $0.1234$ is a rational number? What about $0.123456789$?"
   ]
  },
  {
   "cell_type": "markdown",
   "metadata": {},
   "source": [
    "#### Can you show that if $n^{2}$ is divisible by 2, then $n$ must be as well?\n",
    "\n",
    "We will prove this by showing that if $n$ is not divisible by $2$, then $n^{2}$ cannot be divisible by $2$ either.\n",
    "As a number is either divisible by $2$ or not, this would imply that the only way for $n^{2}$ to be divisible by $2$ is if $n$ is as well.\n",
    "\n",
    "\n",
    "If $n$ is not divisible by $2$, then you can write it as $2a+1$.\n",
    "Then $$n^{2}=(2a+1)^{2}$$ $$   =4a^{2}+4a+1$$.\n",
    "As it is a sum of an even number and an odd number, it must be odd. This means the only way for $n^{2}$ even is if $n$ is as well."
   ]
  },
  {
   "cell_type": "markdown",
   "metadata": {},
   "source": [
    "#### Can you use the previous steps to show that $\\sqrt{2}$ is irrational? \n",
    "\n",
    "Assume $\\sqrt{2}$ is irrational. This means we can write it as a fraction $\\frac{p}{q}$ that cannot be simplified; in other words $p$ and $q$ have no common factors. If we square $\\sqrt{2}$ we get:\n",
    "\n",
    "$$\\sqrt{2}^{2}= \\frac{p^{2}}{q^{2}}$$\n",
    "$$2=\\frac{p^{2}}{q^{2}}$$ \n",
    "$$\\therefore  2q^{2}=p^{2}$$\n",
    "\n",
    "This would imply $p^{2}$ is a multiple of $2$. Since $p^{2}$ is a multiple of $2$, then so is $p$. If we write $p =2s$, then clearly $p^{2}=(2s)^{2} = 4s^{2}$. \n",
    "\n",
    "If this is the case, we can write:\n",
    "\n",
    "$$2 = \\frac{4s^{2}}{q^{2}}$$\n",
    "$$2q^{2}= 4s^{2}$$\n",
    "$$\\therefore q^{2}=2s^{2}$$\n",
    "\n",
    "This means $q^{2}$ is also a multiple of $2$, which means $q$ is as well. This also means $p$ and $q$ have a common factor of $2$, which contradicts our initial claim!\n",
    "Our conclusion is $\\sqrt{2}$ is irrational!"
   ]
  },
  {
   "cell_type": "markdown",
   "metadata": {},
   "source": [
    "## Extension: How would you show that $\\sqrt{3}$ is irrational?"
   ]
  }
 ],
 "metadata": {
  "kernelspec": {
   "display_name": "Python 3",
   "language": "python",
   "name": "python3"
  },
  "language_info": {
   "codemirror_mode": {
    "name": "ipython",
    "version": 3
   },
   "file_extension": ".py",
   "mimetype": "text/x-python",
   "name": "python",
   "nbconvert_exporter": "python",
   "pygments_lexer": "ipython3",
   "version": "3.5.2"
  }
 },
 "nbformat": 4,
 "nbformat_minor": 2
}
