{
 "cells": [
  {
   "cell_type": "markdown",
   "metadata": {},
   "source": [
    "# **Mathematical Proof**"
   ]
  },
  {
   "cell_type": "markdown",
   "metadata": {},
   "source": [
    "## What is a mathematical proof?\n",
    "\n",
    "A set of mathematical arguments that proove a statement is true."
   ]
  },
  {
   "cell_type": "markdown",
   "metadata": {},
   "source": [
    "##  Why do you think it is a useful thing to learn?\n",
    "\n",
    "Understanding proofs can help with algorithmic thinking! "
   ]
  },
  {
   "cell_type": "markdown",
   "metadata": {},
   "source": [
    "###  Task 1:\n",
    "You have a diagram below. What famous result can you prove from this? What are the assumptions you are making?\n",
    "Hint: The outside shape is a square, so is the inside one and all the lines are straight."
   ]
  },
  {
   "cell_type": "markdown",
   "metadata": {},
   "source": [
    "![Pythagorus](https://i1.wp.com/www.zmescience.com/wp-content/uploads/2015/11/pythagora.gif?zoom=1.5&resize=219%2C218)"
   ]
  },
  {
   "cell_type": "markdown",
   "metadata": {
    "slideshow": {
     "slide_type": "skip"
    }
   },
   "source": [
    "**Hints:**\n",
    "\n",
    "1. Show image without labelling.\n",
    "2. Add labels.\n",
    "3. Add right angles.\n",
    "4. Put up area formulae."
   ]
  },
  {
   "cell_type": "markdown",
   "metadata": {},
   "source": [
    "## What is a good and a bad proof?\n",
    "Yes, some proofs are bad!"
   ]
  },
  {
   "cell_type": "markdown",
   "metadata": {},
   "source": [
    "## What skills do you need to write a good proof?"
   ]
  },
  {
   "cell_type": "markdown",
   "metadata": {
    "slideshow": {
     "slide_type": "slide"
    }
   },
   "source": [
    "## Task: \n",
    "\n",
    "You have two lists of mathematical statements. They go in pairs, match them together!"
   ]
  },
  {
   "cell_type": "markdown",
   "metadata": {
    "cell_style": "split"
   },
   "source": [
    "1. $x^{2} + 1 = x^{4}$\n",
    "2. $x^{7} + x^{5} = 0$\n",
    "3. $x^{4} - 4x^{2} = -4$\n",
    "4. $x = -5$ or $3$\n",
    "5. $x = \\frac{1}{x^{2}}$ \n",
    "6. $x + 2 = y+3$ and $y = 2x + 1$\n",
    "7. $x^{4} - 9= 0$\n",
    "8. $xy=5$ and $y^{2} = \\frac{9}{25}$"
   ]
  },
  {
   "cell_type": "markdown",
   "metadata": {
    "cell_style": "split"
   },
   "source": [
    "1. $x = 0$\n",
    "2. $x^{4} = 4$\n",
    "3. $x^{2} + 2x - 15$\n",
    "4. $1 - x^{2} = -1$\n",
    "5. $x=-2$ \n",
    "6. $x =1$\n",
    "7. $x= \\frac{25}{3}$ or $-\\frac{25}{3}$\n",
    "8. $x^{2}+3 = \\frac{1}{x^{2}-3}$  "
   ]
  },
  {
   "cell_type": "markdown",
   "metadata": {
    "slideshow": {
     "slide_type": "slide"
    }
   },
   "source": [
    "## Some interesting proofs:\n",
    "1. $\\sqrt(2)$ is an irrational number.\n",
    "\n",
    "2. The product of $3$ consecutive numbers is always divisible by $6$. The product of $4$ consecutive numbers is always divisible by $24$. The product of $5$ consecutive numbers is always divisible $120$. Can you see where this is going?\n",
    "\n",
    "3. If $x$ and $y$ are two numbers, then $2xy\\leq x^{2}+y^{2}$. **Extension:** Show that $xy \\leq (\\frac{x+y}{2})^{2}$.\n",
    "\n",
    "4. The equation $$x^{2}+y^{2}=9$$ describes a circle of radius $3$.\n",
    "\n",
    "5. $$\\sqrt[q]{p}^{\\sqrt[n]{q}^{n}}$$ is a rational number whenever $p$ and $q$ are not negative.\n",
    "\n",
    "6. The roots of a quadratic polynomial $a x^2 + bx + c$ with $a \\neq 0$ are given by the formula:$$\\frac{-b \\pm \\sqrt{b^2 - 4ac}}{2a}$$"
   ]
  },
  {
   "cell_type": "markdown",
   "metadata": {},
   "source": [
    "## Task 2:\n",
    "Pick a statement out of the 6. With your group brainstorm on different ideas you could use, which could help you prove your statement. Prove it together!"
   ]
  },
  {
   "cell_type": "markdown",
   "metadata": {},
   "source": [
    "## Question: \n",
    "What is wrong with this proof? Why?\n",
    "\n",
    "### Statement to prove:\n",
    "\n",
    "$(x+1)^{2} > 1$ when $x > 0$\n",
    "\n",
    "Assume it's true. This means: $$x^{2}+2x+1 > 1$$\n",
    "We can subtract $1$ from each side to get $$x^{2}+2x > 0$$\n",
    "Then we get: $$x(x+2) > 0$$\n",
    "This is true whenever $x>0$!"
   ]
  },
  {
   "cell_type": "markdown",
   "metadata": {},
   "source": [
    "### What might be a better way to prove your claim?"
   ]
  },
  {
   "cell_type": "markdown",
   "metadata": {},
   "source": [
    "## Some methods of proof\n",
    "\n",
    "We will look at two different methods of proof.\n",
    "\n",
    "1. Deduction: Using a known result that leads you to your statement. Important point: The other way around doesn't work - *assuming* your statement is true and showing it leads you to a known result! \n",
    "\n",
    "2. Exhaustion: Showing a statement is correct by classifying all possibilities into categories and then showing your statement is correct for all those categories.\n",
    "\n",
    "3. Contradiction: Assume the *exact opposite* of your statement. Show that this is impossible given the conditions of your statement.\n"
   ]
  },
  {
   "cell_type": "markdown",
   "metadata": {
    "collapsed": true
   },
   "source": [
    "## Task 4:\n",
    "\n",
    "Can you prove that $(x+5)^{2} \\geq 25$ when $x \\geq 0$ by contradiction?\n",
    "Hint: What is the statement and what is the condition?"
   ]
  },
  {
   "cell_type": "markdown",
   "metadata": {},
   "source": [
    "## Task 5: \n",
    "\n",
    "Can you prove that the sum of 3 consecutive numbers is always odd? Use exhaustion."
   ]
  },
  {
   "cell_type": "markdown",
   "metadata": {},
   "source": [
    "## Task 6:\n",
    "\n",
    "Prove that $\\sqrt(5) + \\sqrt(6) > \\sqrt(11)$ by deduction. Remember that when you use deduction, you are assuming a *known* fact; think about what mathematical facts you are assuming.\n"
   ]
  }
 ],
 "metadata": {
  "celltoolbar": "Slideshow",
  "kernelspec": {
   "display_name": "Python 3",
   "language": "python",
   "name": "python3"
  },
  "language_info": {
   "codemirror_mode": {
    "name": "ipython",
    "version": 3
   },
   "file_extension": ".py",
   "mimetype": "text/x-python",
   "name": "python",
   "nbconvert_exporter": "python",
   "pygments_lexer": "ipython3",
   "version": "3.5.2"
  }
 },
 "nbformat": 4,
 "nbformat_minor": 2
}
