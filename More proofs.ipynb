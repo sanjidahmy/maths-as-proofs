{
 "cells": [
  {
   "cell_type": "markdown",
   "metadata": {},
   "source": [
    "## Work through these proofs. \n",
    "### You don't need to do them in order; use any of the other proofs in your notes and the notes on google classroom: <p>\n",
    "\n",
    "\n",
    "1. Prove that $\\sqrt{5}$ is irrational.\n",
    "\n",
    "2. If $x$ and $y$ are two numbers, then $2xy\\leq x^{2}+y^{2}$. **Extension:** Show that $xy \\leq (\\frac{x+y}{2})^{2}$.<p>\n",
    "\n",
    "3. The equation $$x^{2}+y^{2}=r^{2}$$ describes a circle of radius $r$.<p>\n",
    "\n",
    "4. Prove that $(Ax+B)^{2}-(Ax-B)^{2}$ is a multiple of $4$.<p>\n",
    "\n",
    "5. Prove algebraically that the difference between the squares of any two consecutive integers is equal to the sum of these two integers.<p>\n",
    "\n",
    "6. If $a^{2}+b^{2}$ is divisible by $3$, then both $a$ and $b$ are divisible by $3$.<p>\n"
   ]
  }
 ],
 "metadata": {
  "kernelspec": {
   "display_name": "Python 3",
   "language": "python",
   "name": "python3"
  },
  "language_info": {
   "codemirror_mode": {
    "name": "ipython",
    "version": 3
   },
   "file_extension": ".py",
   "mimetype": "text/x-python",
   "name": "python",
   "nbconvert_exporter": "python",
   "pygments_lexer": "ipython3",
   "version": "3.5.2"
  }
 },
 "nbformat": 4,
 "nbformat_minor": 2
}
