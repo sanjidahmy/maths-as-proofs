{
 "cells": [
  {
   "cell_type": "markdown",
   "metadata": {},
   "source": [
    "# Mathematical proof: Class exercise 1"
   ]
  },
  {
   "cell_type": "markdown",
   "metadata": {},
   "source": [
    "## **Topic:** Circle Theorems"
   ]
  },
  {
   "cell_type": "markdown",
   "metadata": {},
   "source": [
    "### **Aim:** To prove the circle theorems."
   ]
  },
  {
   "cell_type": "markdown",
   "metadata": {},
   "source": [
    "The circle theorems are:\n",
    "\n",
    "1. The angle at the centre is twice the angle at the circumference.\n",
    "\n",
    "2. The angle in a semicircle is a right angle.\n",
    "\n",
    "3. Angles in the same segment are equal.\n",
    "\n",
    "4. Opposite angles in a cyclic quadrilateral sum to 180°\n",
    "\n",
    "5. The angle between the chord and the tangent is equal to the angle in the alternate segment."
   ]
  },
  {
   "cell_type": "markdown",
   "metadata": {},
   "source": [
    "#### Step 1: \n",
    "*Draw* a diagram for each one. Alternatively, you can use Geogebra (see Task sheet for help)\n",
    "\n",
    "#### Step 2:\n",
    "Label your diagram."
   ]
  },
  {
   "cell_type": "markdown",
   "metadata": {},
   "source": [
    "# Mathematical proof: Class exercise 2"
   ]
  },
  {
   "cell_type": "markdown",
   "metadata": {},
   "source": [
    "## **Topic:** Irrationality in mathematical proofs."
   ]
  },
  {
   "cell_type": "markdown",
   "metadata": {},
   "source": [
    "### What is a rational number?"
   ]
  },
  {
   "cell_type": "markdown",
   "metadata": {},
   "source": [
    "### **Aim:** To prove that $\\sqrt{2}$ is irrational."
   ]
  },
  {
   "cell_type": "markdown",
   "metadata": {},
   "source": [
    "#### Can you show that $2$, $18$ or $310$ are rational numbers? How would you go about it?"
   ]
  },
  {
   "cell_type": "markdown",
   "metadata": {},
   "source": [
    "#### Can you show that $0.1234$ is a rational number? What about $0.123456789$?"
   ]
  },
  {
   "cell_type": "markdown",
   "metadata": {},
   "source": [
    "#### Can you show that if $n^{2}$ is divisible by 2, then $n$ must be as well?"
   ]
  },
  {
   "cell_type": "markdown",
   "metadata": {},
   "source": [
    "#### Can you use the previous steps to show that $\\sqrt{2}$ is irrational? ",\n
    "We will prove this by contradiction. Assume $\\sqrt{2}$ ir rational; in other words, we can find integers $p$ and $q$ such that $\\sqrt{2}"
   ]
  },
  {
   "cell_type": "markdown",
   "metadata": {},
   "source": [
    "#### Extension: How would you show that $\\sqrt{3}$ is irrational?"
   ]
  }
 ],
 "metadata": {
  "kernelspec": {
   "display_name": "Python 3",
   "language": "python",
   "name": "python3"
  },
  "language_info": {
   "codemirror_mode": {
    "name": "ipython",
    "version": 3
   },
   "file_extension": ".py",
   "mimetype": "text/x-python",
   "name": "python",
   "nbconvert_exporter": "python",
   "pygments_lexer": "ipython3",
   "version": "3.5.2"
  }
 },
 "nbformat": 4,
 "nbformat_minor": 2
}
